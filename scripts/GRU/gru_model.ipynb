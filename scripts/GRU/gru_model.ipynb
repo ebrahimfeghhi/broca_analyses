{
 "cells": [
  {
   "cell_type": "code",
   "execution_count": 19,
   "metadata": {},
   "outputs": [],
   "source": [
    "from model import GRUDecoder\n",
    "device = 2"
   ]
  },
  {
   "cell_type": "code",
   "execution_count": 20,
   "metadata": {},
   "outputs": [],
   "source": [
    "args = {}\n",
    "args['seqLen'] = 150\n",
    "args['maxTimeSeriesLen'] = 1200\n",
    "args['batchSize'] = 64 # number of words included on each minibatch \n",
    "args['lrStart'] = 0.02\n",
    "args['lrEnd'] = 0.02\n",
    "args['nUnits'] = 256\n",
    "args['nBatch'] = 10000 #3000\n",
    "args['nLayers'] = 4 \n",
    "args['seed'] = 0\n",
    "args['nClasses'] = 51 # 50 word vocabulary + silence \n",
    "args['nInputFeatures'] = 256 # spike pow + tx crossings\n",
    "args['dropout'] = 0.4\n",
    "args['whiteNoiseSD'] = 0.8\n",
    "args['constantOffsetSD'] = 0.2\n",
    "args['gaussianSmoothWidth'] = 2.0 # smooths data with gaussian kernel (40 ms std)\n",
    "args['kernelLen'] = 14 # kernel size, which is how many time bins are stacked together and passed to RNN (14 = 280 ms)\n",
    "args['bidirectional'] = True\n",
    "args['l2_decay'] = 1e-5\n",
    "args['strideLen'] = 4 # how many times forward the RNN skips forward every step "
   ]
  },
  {
   "cell_type": "code",
   "execution_count": 21,
   "metadata": {},
   "outputs": [],
   "source": [
    "model = GRUDecoder(\n",
    "        neural_dim=args[\"nInputFeatures\"],\n",
    "        n_classes=args[\"nClasses\"],\n",
    "        hidden_dim=args[\"nUnits\"],\n",
    "        layer_dim=args[\"nLayers\"],\n",
    "        nDays=1,\n",
    "        dropout=args[\"dropout\"],\n",
    "        device=device,\n",
    "        strideLen=args[\"strideLen\"],\n",
    "        kernelLen=args[\"kernelLen\"],\n",
    "        gaussianSmoothWidth=args[\"gaussianSmoothWidth\"],\n",
    "        bidirectional=args[\"bidirectional\"],\n",
    "    ).to(device)"
   ]
  },
  {
   "cell_type": "code",
   "execution_count": null,
   "metadata": {},
   "outputs": [],
   "source": []
  }
 ],
 "metadata": {
  "kernelspec": {
   "display_name": "llm_brain",
   "language": "python",
   "name": "python3"
  },
  "language_info": {
   "codemirror_mode": {
    "name": "ipython",
    "version": 3
   },
   "file_extension": ".py",
   "mimetype": "text/x-python",
   "name": "python",
   "nbconvert_exporter": "python",
   "pygments_lexer": "ipython3",
   "version": "3.11.4"
  },
  "orig_nbformat": 4
 },
 "nbformat": 4,
 "nbformat_minor": 2
}
