{
 "cells": [
  {
   "cell_type": "code",
   "execution_count": 7,
   "metadata": {},
   "outputs": [],
   "source": [
    "base_dir = '/home2/ebrahim/neural_seq_decoder/'\n",
    "import numpy as np\n",
    "import scipy\n",
    "import sys\n",
    "sys.path.append(f\"{base_dir}scripts\")\n",
    "from process_data_functions import compute_duration\n",
    "from matplotlib import pyplot as plt\n",
    "import os"
   ]
  },
  {
   "cell_type": "code",
   "execution_count": 2,
   "metadata": {},
   "outputs": [],
   "source": [
    "diagnostic_data_path = '/home2/ebrahim/neural_seq_decoder/diagnosticBlocks/'\n",
    "bin_size = 20 # ms"
   ]
  },
  {
   "cell_type": "code",
   "execution_count": 8,
   "metadata": {},
   "outputs": [
    {
     "name": "stdout",
     "output_type": "stream",
     "text": [
      "1.5 2.46\n",
      "1.42 2.48\n",
      "1.42 2.5\n",
      "1.42 2.48\n",
      "1.48 2.5\n",
      "1.42 2.48\n",
      "1.48 2.46\n",
      "1.48 2.46\n",
      "1.42 2.5\n",
      "1.48 2.46\n",
      "1.44 2.48\n",
      "1.42 2.48\n",
      "1.48 2.46\n",
      "1.48 2.46\n",
      "1.48 2.5\n",
      "1.48 2.48\n"
     ]
    }
   ],
   "source": [
    "for file in os.listdir(diagnostic_data_path):\n",
    "    diagnostic_data = scipy.io.loadmat(f\"{diagnostic_data_path}{file}\")\n",
    "    delays = diagnostic_data['delayTrialEpochs']\n",
    "    delay_durations = compute_duration(delays)\n",
    "    delay_durations_sec = (delay_durations*20)/1000\n",
    "    print(np.min(delay_durations_sec), np.mean(delay_duration), np.max(delay_durations_sec))\n"
   ]
  },
  {
   "cell_type": "code",
   "execution_count": null,
   "metadata": {},
   "outputs": [],
   "source": []
  }
 ],
 "metadata": {
  "kernelspec": {
   "display_name": "speech-bci",
   "language": "python",
   "name": "python3"
  },
  "language_info": {
   "codemirror_mode": {
    "name": "ipython",
    "version": 3
   },
   "file_extension": ".py",
   "mimetype": "text/x-python",
   "name": "python",
   "nbconvert_exporter": "python",
   "pygments_lexer": "ipython3",
   "version": "3.9.18"
  },
  "orig_nbformat": 4
 },
 "nbformat": 4,
 "nbformat_minor": 2
}
