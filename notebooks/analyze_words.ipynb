{
 "cells": [
  {
   "cell_type": "code",
   "execution_count": 1,
   "metadata": {},
   "outputs": [],
   "source": [
    "import numpy as np\n",
    "from scipy.io import loadmat \n",
    "import sys\n",
    "sys.path.append(\"/home2/ebrahim/neural_seq_decoder/scripts/\")\n",
    "from load_data import store_data_to_pandas\n",
    "from matplotlib import pyplot as plt"
   ]
  },
  {
   "cell_type": "code",
   "execution_count": 2,
   "metadata": {},
   "outputs": [],
   "source": [
    "fiftyWords = loadmat('/home2/ebrahim/neural_seq_decoder/tuningTasks/t12.2022.05.03_fiftyWordSet.mat')\n",
    "\n",
    "blockNum = fiftyWords['blockNum']\n",
    "fiftyWords['blockTypes'] = np.expand_dims(np.repeat('Words', blockNum.shape[0]),axis=-1)\n",
    "\n",
    "words_pd = store_data_to_pandas(session_dict=fiftyWords, session_name='Words', stimuliKey='trialCues', zscore_bool=True)"
   ]
  },
  {
   "cell_type": "code",
   "execution_count": 29,
   "metadata": {},
   "outputs": [
    {
     "data": {
      "text/plain": [
       "array([[array(['DO NOTHING'], dtype='<U10'), array(['am'], dtype='<U2'),\n",
       "        array(['are'], dtype='<U3'), array(['bad'], dtype='<U3'),\n",
       "        array(['bring'], dtype='<U5'), array(['clean'], dtype='<U5'),\n",
       "        array(['closer'], dtype='<U6'),\n",
       "        array(['comfortable'], dtype='<U11'),\n",
       "        array(['coming'], dtype='<U6'), array(['computer'], dtype='<U8'),\n",
       "        array(['do'], dtype='<U2'), array(['faith'], dtype='<U5'),\n",
       "        array(['family'], dtype='<U6'), array(['feel'], dtype='<U4'),\n",
       "        array(['glasses'], dtype='<U7'), array(['going'], dtype='<U5'),\n",
       "        array(['good'], dtype='<U4'), array(['goodbye'], dtype='<U7'),\n",
       "        array(['have'], dtype='<U4'), array(['hello'], dtype='<U5'),\n",
       "        array(['help'], dtype='<U4'), array(['here'], dtype='<U4'),\n",
       "        array(['hope'], dtype='<U4'), array(['how'], dtype='<U3'),\n",
       "        array(['hungry'], dtype='<U6'), array(['i'], dtype='<U1'),\n",
       "        array(['is'], dtype='<U2'), array(['it'], dtype='<U2'),\n",
       "        array(['like'], dtype='<U4'), array(['music'], dtype='<U5'),\n",
       "        array(['my'], dtype='<U2'), array(['need'], dtype='<U4'),\n",
       "        array(['no'], dtype='<U2'), array(['not'], dtype='<U3'),\n",
       "        array(['nurse'], dtype='<U5'), array(['okay'], dtype='<U4'),\n",
       "        array(['outside'], dtype='<U7'), array(['please'], dtype='<U6'),\n",
       "        array(['right'], dtype='<U5'), array(['success'], dtype='<U7'),\n",
       "        array(['tell'], dtype='<U4'), array(['that'], dtype='<U4'),\n",
       "        array(['they'], dtype='<U4'), array(['thirsty'], dtype='<U7'),\n",
       "        array(['tired'], dtype='<U5'), array(['up'], dtype='<U2'),\n",
       "        array(['very'], dtype='<U4'), array(['what'], dtype='<U4'),\n",
       "        array(['where'], dtype='<U5'), array(['yes'], dtype='<U3'),\n",
       "        array(['you'], dtype='<U3')]], dtype=object)"
      ]
     },
     "execution_count": 29,
     "metadata": {},
     "output_type": "execute_result"
    }
   ],
   "source": [
    "fiftyWords['cueList']"
   ]
  },
  {
   "cell_type": "code",
   "execution_count": 27,
   "metadata": {},
   "outputs": [
    {
     "data": {
      "text/plain": [
       "array([ 1,  2,  3,  4,  5,  6,  7,  8,  9, 10, 11, 12, 13, 14, 15, 16, 17,\n",
       "       18, 19, 20, 21, 22, 23, 24, 25, 26, 27, 28, 29, 30, 31, 32, 33, 34,\n",
       "       35, 36, 37, 38, 39, 40, 41, 42, 43, 44, 45, 46, 47, 48, 49, 50, 51],\n",
       "      dtype=uint8)"
      ]
     },
     "execution_count": 27,
     "metadata": {},
     "output_type": "execute_result"
    }
   ],
   "source": [
    "np.unique(fiftyWords['trialCues'])"
   ]
  },
  {
   "cell_type": "code",
   "execution_count": 4,
   "metadata": {},
   "outputs": [],
   "source": [
    "words_pd_delay = words_pd.loc[words_pd.trialState==0]"
   ]
  },
  {
   "cell_type": "code",
   "execution_count": 5,
   "metadata": {},
   "outputs": [
    {
     "data": {
      "text/html": [
       "<div>\n",
       "<style scoped>\n",
       "    .dataframe tbody tr th:only-of-type {\n",
       "        vertical-align: middle;\n",
       "    }\n",
       "\n",
       "    .dataframe tbody tr th {\n",
       "        vertical-align: top;\n",
       "    }\n",
       "\n",
       "    .dataframe thead th {\n",
       "        text-align: right;\n",
       "    }\n",
       "</style>\n",
       "<table border=\"1\" class=\"dataframe\">\n",
       "  <thead>\n",
       "    <tr style=\"text-align: right;\">\n",
       "      <th></th>\n",
       "      <th>blockNum</th>\n",
       "      <th>blockName</th>\n",
       "      <th>session</th>\n",
       "      <th>trialState</th>\n",
       "      <th>stimuli</th>\n",
       "      <th>trialNumber</th>\n",
       "      <th>bin_rel_go</th>\n",
       "      <th>audioEnvelope</th>\n",
       "      <th>pow-ip_6v-0</th>\n",
       "      <th>tx-ip_6v-0</th>\n",
       "      <th>...</th>\n",
       "      <th>pow-ip_44-251</th>\n",
       "      <th>tx-ip_44-251</th>\n",
       "      <th>pow-ip_44-252</th>\n",
       "      <th>tx-ip_44-252</th>\n",
       "      <th>pow-ip_44-253</th>\n",
       "      <th>tx-ip_44-253</th>\n",
       "      <th>pow-ip_44-254</th>\n",
       "      <th>tx-ip_44-254</th>\n",
       "      <th>pow-ip_44-255</th>\n",
       "      <th>tx-ip_44-255</th>\n",
       "    </tr>\n",
       "  </thead>\n",
       "  <tbody>\n",
       "    <tr>\n",
       "      <th>0</th>\n",
       "      <td>2</td>\n",
       "      <td>Words</td>\n",
       "      <td>Words</td>\n",
       "      <td>0</td>\n",
       "      <td>28</td>\n",
       "      <td>0</td>\n",
       "      <td>-131</td>\n",
       "      <td>120.471709</td>\n",
       "      <td>-0.037352</td>\n",
       "      <td>-0.394279</td>\n",
       "      <td>...</td>\n",
       "      <td>0.319277</td>\n",
       "      <td>-0.391052</td>\n",
       "      <td>-0.147525</td>\n",
       "      <td>-0.179543</td>\n",
       "      <td>1.362292</td>\n",
       "      <td>1.291885</td>\n",
       "      <td>0.779324</td>\n",
       "      <td>1.567522</td>\n",
       "      <td>-0.271416</td>\n",
       "      <td>-0.493076</td>\n",
       "    </tr>\n",
       "    <tr>\n",
       "      <th>1</th>\n",
       "      <td>2</td>\n",
       "      <td>Words</td>\n",
       "      <td>Words</td>\n",
       "      <td>0</td>\n",
       "      <td>28</td>\n",
       "      <td>0</td>\n",
       "      <td>-130</td>\n",
       "      <td>105.149512</td>\n",
       "      <td>-0.734556</td>\n",
       "      <td>-0.394279</td>\n",
       "      <td>...</td>\n",
       "      <td>0.307419</td>\n",
       "      <td>-0.391052</td>\n",
       "      <td>0.177262</td>\n",
       "      <td>-0.179543</td>\n",
       "      <td>1.301280</td>\n",
       "      <td>-0.489134</td>\n",
       "      <td>-0.391820</td>\n",
       "      <td>-0.454313</td>\n",
       "      <td>0.200776</td>\n",
       "      <td>-0.493076</td>\n",
       "    </tr>\n",
       "    <tr>\n",
       "      <th>2</th>\n",
       "      <td>2</td>\n",
       "      <td>Words</td>\n",
       "      <td>Words</td>\n",
       "      <td>0</td>\n",
       "      <td>28</td>\n",
       "      <td>0</td>\n",
       "      <td>-129</td>\n",
       "      <td>71.570630</td>\n",
       "      <td>-0.576505</td>\n",
       "      <td>-0.394279</td>\n",
       "      <td>...</td>\n",
       "      <td>-0.099055</td>\n",
       "      <td>-0.391052</td>\n",
       "      <td>0.885181</td>\n",
       "      <td>-0.179543</td>\n",
       "      <td>0.498463</td>\n",
       "      <td>1.291885</td>\n",
       "      <td>-0.019679</td>\n",
       "      <td>-0.454313</td>\n",
       "      <td>-0.004540</td>\n",
       "      <td>-0.493076</td>\n",
       "    </tr>\n",
       "    <tr>\n",
       "      <th>3</th>\n",
       "      <td>2</td>\n",
       "      <td>Words</td>\n",
       "      <td>Words</td>\n",
       "      <td>0</td>\n",
       "      <td>28</td>\n",
       "      <td>0</td>\n",
       "      <td>-128</td>\n",
       "      <td>47.784127</td>\n",
       "      <td>0.677066</td>\n",
       "      <td>-0.394279</td>\n",
       "      <td>...</td>\n",
       "      <td>0.716807</td>\n",
       "      <td>-0.391052</td>\n",
       "      <td>1.024591</td>\n",
       "      <td>-0.179543</td>\n",
       "      <td>-0.242248</td>\n",
       "      <td>-0.489134</td>\n",
       "      <td>2.736732</td>\n",
       "      <td>-0.454313</td>\n",
       "      <td>1.013895</td>\n",
       "      <td>-0.493076</td>\n",
       "    </tr>\n",
       "    <tr>\n",
       "      <th>4</th>\n",
       "      <td>2</td>\n",
       "      <td>Words</td>\n",
       "      <td>Words</td>\n",
       "      <td>0</td>\n",
       "      <td>28</td>\n",
       "      <td>0</td>\n",
       "      <td>-127</td>\n",
       "      <td>38.418846</td>\n",
       "      <td>3.413317</td>\n",
       "      <td>4.562804</td>\n",
       "      <td>...</td>\n",
       "      <td>-0.156841</td>\n",
       "      <td>1.905989</td>\n",
       "      <td>1.584542</td>\n",
       "      <td>-0.179543</td>\n",
       "      <td>-0.392293</td>\n",
       "      <td>-0.489134</td>\n",
       "      <td>-0.031943</td>\n",
       "      <td>1.567522</td>\n",
       "      <td>-0.082634</td>\n",
       "      <td>0.665037</td>\n",
       "    </tr>\n",
       "  </tbody>\n",
       "</table>\n",
       "<p>5 rows × 520 columns</p>\n",
       "</div>"
      ],
      "text/plain": [
       "   blockNum blockName session  trialState  stimuli  trialNumber  bin_rel_go  \\\n",
       "0         2     Words   Words           0       28            0        -131   \n",
       "1         2     Words   Words           0       28            0        -130   \n",
       "2         2     Words   Words           0       28            0        -129   \n",
       "3         2     Words   Words           0       28            0        -128   \n",
       "4         2     Words   Words           0       28            0        -127   \n",
       "\n",
       "   audioEnvelope  pow-ip_6v-0  tx-ip_6v-0  ...  pow-ip_44-251  tx-ip_44-251  \\\n",
       "0     120.471709    -0.037352   -0.394279  ...       0.319277     -0.391052   \n",
       "1     105.149512    -0.734556   -0.394279  ...       0.307419     -0.391052   \n",
       "2      71.570630    -0.576505   -0.394279  ...      -0.099055     -0.391052   \n",
       "3      47.784127     0.677066   -0.394279  ...       0.716807     -0.391052   \n",
       "4      38.418846     3.413317    4.562804  ...      -0.156841      1.905989   \n",
       "\n",
       "   pow-ip_44-252  tx-ip_44-252  pow-ip_44-253  tx-ip_44-253  pow-ip_44-254  \\\n",
       "0      -0.147525     -0.179543       1.362292      1.291885       0.779324   \n",
       "1       0.177262     -0.179543       1.301280     -0.489134      -0.391820   \n",
       "2       0.885181     -0.179543       0.498463      1.291885      -0.019679   \n",
       "3       1.024591     -0.179543      -0.242248     -0.489134       2.736732   \n",
       "4       1.584542     -0.179543      -0.392293     -0.489134      -0.031943   \n",
       "\n",
       "   tx-ip_44-254  pow-ip_44-255  tx-ip_44-255  \n",
       "0      1.567522      -0.271416     -0.493076  \n",
       "1     -0.454313       0.200776     -0.493076  \n",
       "2     -0.454313      -0.004540     -0.493076  \n",
       "3     -0.454313       1.013895     -0.493076  \n",
       "4      1.567522      -0.082634      0.665037  \n",
       "\n",
       "[5 rows x 520 columns]"
      ]
     },
     "execution_count": 5,
     "metadata": {},
     "output_type": "execute_result"
    }
   ],
   "source": [
    "words_pd_delay.head()"
   ]
  },
  {
   "cell_type": "code",
   "execution_count": 26,
   "metadata": {},
   "outputs": [
    {
     "name": "stdout",
     "output_type": "stream",
     "text": [
      "(51,)\n",
      "(51,)\n",
      "(51,)\n",
      "(51,)\n",
      "(51,)\n",
      "(51,)\n",
      "(51,)\n",
      "(51,)\n",
      "(51,)\n",
      "(51,)\n"
     ]
    }
   ],
   "source": [
    "trialLengths = []\n",
    "startTime = 5 # 100 ms \n",
    "fixedLength = 50 # 1000 ms\n",
    "X = []\n",
    "y = []\n",
    "blockNums = []\n",
    "silence_int = 1\n",
    "stimulus_id_arr = []\n",
    "sentence_lengths = []\n",
    "for bn in np.unique(words_pd_delay.blockNum):\n",
    "    \n",
    "    words_pd_delay_bn = words_pd_delay.loc[words_pd_delay.blockNum==bn]\n",
    "    \n",
    "    print(words_pd_delay_bn.stimuli.unique().shape)\n",
    "    \n",
    "    for t in np.unique(words_pd_delay_bn.trialNumber):\n",
    "\n",
    "        \n",
    "        words_pd_delay_bn_t = words_pd_delay_bn.loc[words_pd_delay_bn.trialNumber==t]\n",
    "        \n",
    "        stimulus_id = words_pd_delay_bn_t.stimuli.iloc[0] - 1\n",
    "            \n",
    "        # Select columns with both 'tx-' and '6v' in their names\n",
    "        tx_crossings = np.array(words_pd_delay_bn_t.filter(regex='tx-.*6v'))\n",
    "        power_values = np.array(words_pd_delay_bn_t.filter(regex='pow-.*6v'))\n",
    "        \n",
    "        tx_crossings = tx_crossings[startTime:fixedLength]\n",
    "        power_values = power_values[startTime:fixedLength]\n",
    "        \n",
    "        sentence_lengths.append(tx_crossings.shape[0])\n",
    "        \n",
    "        if tx_crossings.shape[0] < fixedLength-startTime:\n",
    "            print(\"too short\")\n",
    "            \n",
    "        neural_features_bn_t = np.hstack((tx_crossings, power_values))\n",
    "        X.append(neural_features_bn_t)\n",
    "        y.append(np.repeat(stimulus_id, fixedLength-startTime))\n",
    "        blockNums.append(bn)\n"
   ]
  },
  {
   "cell_type": "code",
   "execution_count": 23,
   "metadata": {},
   "outputs": [],
   "source": [
    "X_np = np.stack((X))\n",
    "y_np = np.vstack((y))\n",
    "blockNums_np = np.array(blockNums)\n",
    "np.save('/data/LLMs/willet/delay_decode/moses_data/X', X_np)\n",
    "np.save('/data/LLMs/willet/delay_decode/moses_data/y', y_np)\n",
    "np.save('/data/LLMs/willet/delay_decode/moses_data/blockNums', blockNums_np)\n",
    "np.save('/data/LLMs/willet/delay_decode/moses_data/sent_length', sentence_lengths)"
   ]
  },
  {
   "cell_type": "code",
   "execution_count": 8,
   "metadata": {},
   "outputs": [
    {
     "data": {
      "text/plain": [
       "array([ 1,  2,  3,  4,  5,  6,  7,  8,  9, 10, 11, 12, 13, 14, 15, 16, 17,\n",
       "       18, 19, 20, 21, 22, 23, 24, 25, 26, 27, 28, 29, 30, 31, 32, 33, 34,\n",
       "       35, 36, 37, 38, 39, 40, 41, 42, 43, 44, 45, 46, 47, 48, 49, 50, 51],\n",
       "      dtype=uint8)"
      ]
     },
     "execution_count": 8,
     "metadata": {},
     "output_type": "execute_result"
    }
   ],
   "source": []
  },
  {
   "cell_type": "code",
   "execution_count": 64,
   "metadata": {},
   "outputs": [],
   "source": [
    "\n",
    "class NeuralDataDataset(Dataset):\n",
    "    def __init__(self, X, y):\n",
    "        self.X = torch.tensor(X, dtype=torch.float32)\n",
    "        self.y = torch.tensor(y, dtype=torch.long)  # or torch.float32 if y is continuous\n",
    "\n",
    "    def __len__(self):\n",
    "        return len(self.X)\n",
    "\n",
    "    def __getitem__(self, idx):\n",
    "        return self.X[idx], self.y[idx]\n",
    "    \n",
    "def getDatasetLoaders(train_ds, test_ds, batchSize):\n",
    "\n",
    "\n",
    "    train_loader = DataLoader(\n",
    "        train_ds,\n",
    "        batch_size=batchSize,\n",
    "        shuffle=True,\n",
    "        num_workers=0,\n",
    "    )\n",
    "    \n",
    "    test_loader = DataLoader(\n",
    "        test_ds,\n",
    "        batch_size=batchSize,\n",
    "        shuffle=False,\n",
    "        num_workers=0,\n",
    "    )\n",
    "\n",
    "    return train_loader, test_loader"
   ]
  },
  {
   "cell_type": "code",
   "execution_count": 66,
   "metadata": {},
   "outputs": [],
   "source": [
    "from torch.utils.data import DataLoader\n",
    "\n",
    "# Instantiate the dataset\n",
    "dataset = NeuralDataDataset(X_np, y_np)\n",
    "\n",
    "# Create the DataLoader\n",
    "batch_size = 64  # You can set this to whatever value you need\n",
    "data_loader = DataLoader(dataset, batch_size=batch_size, shuffle=False, num_workers=0)\n"
   ]
  },
  {
   "cell_type": "code",
   "execution_count": 69,
   "metadata": {},
   "outputs": [
    {
     "name": "stdout",
     "output_type": "stream",
     "text": [
      "torch.Size([64, 151, 256]) torch.Size([64, 3])\n"
     ]
    }
   ],
   "source": [
    "X, y = next(iter(data_loader))\n",
    "print(X.shape, y.shape)"
   ]
  },
  {
   "cell_type": "code",
   "execution_count": null,
   "metadata": {},
   "outputs": [],
   "source": []
  }
 ],
 "metadata": {
  "kernelspec": {
   "display_name": "llm_brain",
   "language": "python",
   "name": "python3"
  },
  "language_info": {
   "codemirror_mode": {
    "name": "ipython",
    "version": 3
   },
   "file_extension": ".py",
   "mimetype": "text/x-python",
   "name": "python",
   "nbconvert_exporter": "python",
   "pygments_lexer": "ipython3",
   "version": "3.11.4"
  },
  "orig_nbformat": 4
 },
 "nbformat": 4,
 "nbformat_minor": 2
}
