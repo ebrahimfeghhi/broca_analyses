{
 "cells": [
  {
   "cell_type": "code",
   "execution_count": 6,
   "metadata": {},
   "outputs": [],
   "source": [
    "import numpy as np\n",
    "from matplotlib import pyplot as plt"
   ]
  },
  {
   "cell_type": "code",
   "execution_count": 29,
   "metadata": {},
   "outputs": [],
   "source": [
    "go_end_cue = np.load('/data/LLMs/willet/go_end_cue.npy')\n",
    "go_end_cue[-1] = 2\n",
    "\n",
    "arr = np.zeros_like(go_end_cue)\n",
    "\n",
    "# Find all indices of 1s and 2s\n",
    "indices_1 = np.where(go_end_cue == 1)[0]\n",
    "indices_2 = np.where(go_end_cue == 2)[0]\n",
    "\n",
    "for i1, i2 in zip(indices_1, indices_2):\n",
    "    arr[i1:i2] = 1\n",
    "\n",
    "np.save('/data/LLMs/willet/delay_go', np.expand_dims(arr,axis=-1))"
   ]
  },
  {
   "cell_type": "code",
   "execution_count": 30,
   "metadata": {},
   "outputs": [
    {
     "data": {
      "text/plain": [
       "(5942443,)"
      ]
     },
     "execution_count": 30,
     "metadata": {},
     "output_type": "execute_result"
    }
   ],
   "source": [
    "arr.shape"
   ]
  },
  {
   "cell_type": "code",
   "execution_count": null,
   "metadata": {},
   "outputs": [],
   "source": []
  }
 ],
 "metadata": {
  "kernelspec": {
   "display_name": "llm_brain",
   "language": "python",
   "name": "python3"
  },
  "language_info": {
   "codemirror_mode": {
    "name": "ipython",
    "version": 3
   },
   "file_extension": ".py",
   "mimetype": "text/x-python",
   "name": "python",
   "nbconvert_exporter": "python",
   "pygments_lexer": "ipython3",
   "version": "3.11.4"
  },
  "orig_nbformat": 4
 },
 "nbformat": 4,
 "nbformat_minor": 2
}
