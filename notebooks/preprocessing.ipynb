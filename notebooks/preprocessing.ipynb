{
 "cells": [
  {
   "cell_type": "code",
   "execution_count": 95,
   "metadata": {},
   "outputs": [],
   "source": [
    "import numpy as np\n",
    "from scipy.io import loadmat\n",
    "from matplotlib import pyplot as plt\n",
    "import sys\n",
    "sys.path.append(\"/home2/ebrahim/neural_seq_decoder/scripts/\")\n",
    "from preprocessing import get_trial_numbers\n",
    "import scipy"
   ]
  },
  {
   "cell_type": "code",
   "execution_count": 4,
   "metadata": {},
   "outputs": [],
   "source": [
    "base_dir = '/home2/ebrahim/neural_seq_decoder/'\n",
    "audioEnvelope = []\n",
    "for file in os.listdir(f\"{base_dir}sentences/\"):\n",
    "    \n",
    "    print(\"loading session data\")\n",
    "    session_dict = scipy.io.loadmat(f'{base_dir}sentences/{file}')\n",
    "    audioEnvelope.extend(session_dict['audioEnvelope'])\n",
    "    "
   ]
  },
  {
   "cell_type": "code",
   "execution_count": 58,
   "metadata": {},
   "outputs": [
    {
     "data": {
      "text/plain": [
       "array([[array(['OL Switchboard'], dtype='<U14')],\n",
       "       [array(['OL Switchboard'], dtype='<U14')],\n",
       "       [array(['OL Switchboard'], dtype='<U14')],\n",
       "       [array(['OL Switchboard'], dtype='<U14')],\n",
       "       [array(['CL Switchboard Stage 1'], dtype='<U22')],\n",
       "       [array(['CL Switchboard Stage 1'], dtype='<U22')],\n",
       "       [array(['CL Switchboard Stage 1'], dtype='<U22')],\n",
       "       [array(['CL Switchboard Stage 1'], dtype='<U22')],\n",
       "       [array(['CL Switchboard Stage 1'], dtype='<U22')],\n",
       "       [array(['CL Switchboard Stage 2'], dtype='<U22')],\n",
       "       [array(['CL Switchboard Stage 2'], dtype='<U22')],\n",
       "       [array(['CL Chang Stage 2'], dtype='<U16')]], dtype=object)"
      ]
     },
     "execution_count": 58,
     "metadata": {},
     "output_type": "execute_result"
    }
   ],
   "source": [
    "session_dict['blockTypes']"
   ]
  },
  {
   "cell_type": "code",
   "execution_count": 76,
   "metadata": {},
   "outputs": [],
   "source": [
    "trialNumbers = get_trial_numbers(session_dict)"
   ]
  },
  {
   "cell_type": "code",
   "execution_count": 79,
   "metadata": {},
   "outputs": [
    {
     "data": {
      "text/plain": [
       "array([167615, 167616, 167617, 167618, 167619, 167620, 167621, 167622,\n",
       "       167623, 167624, 167625, 167626, 167627, 167628, 167629, 167630,\n",
       "       167631, 167632, 167633, 167634])"
      ]
     },
     "execution_count": 79,
     "metadata": {},
     "output_type": "execute_result"
    }
   ],
   "source": [
    "trial321 = np.argwhere(trialNumbers==321).squeeze()\n",
    "trial321[0:20]"
   ]
  },
  {
   "cell_type": "code",
   "execution_count": 88,
   "metadata": {},
   "outputs": [
    {
     "data": {
      "text/plain": [
       "array([166840, 166841, 166842, ..., 191358, 191359, 191360])"
      ]
     },
     "execution_count": 88,
     "metadata": {},
     "output_type": "execute_result"
    }
   ],
   "source": [
    "np.argwhere(np.unique(session_dict['blockNum'])[-4]==session_dict['blockNum'])[:, 0]"
   ]
  },
  {
   "cell_type": "code",
   "execution_count": 92,
   "metadata": {},
   "outputs": [
    {
     "data": {
      "text/plain": [
       "array([array(['CL Switchboard Stage 1'], dtype='<U22')], dtype=object)"
      ]
     },
     "execution_count": 92,
     "metadata": {},
     "output_type": "execute_result"
    }
   ],
   "source": [
    "session_dict['blockTypes'][-4]"
   ]
  },
  {
   "cell_type": "code",
   "execution_count": 35,
   "metadata": {},
   "outputs": [],
   "source": []
  },
  {
   "cell_type": "code",
   "execution_count": 39,
   "metadata": {},
   "outputs": [
    {
     "data": {
      "text/plain": [
       "(687,)"
      ]
     },
     "execution_count": 39,
     "metadata": {},
     "output_type": "execute_result"
    }
   ],
   "source": []
  },
  {
   "cell_type": "code",
   "execution_count": 24,
   "metadata": {},
   "outputs": [],
   "source": [
    "audioEnvelope = session_dict['audioEnvelope']"
   ]
  },
  {
   "cell_type": "code",
   "execution_count": 41,
   "metadata": {},
   "outputs": [],
   "source": [
    "trialState = session_dict['trialState'].squeeze()\n",
    "trialDelay = session_dict['trialDelayTimes'].squeeze()\n",
    "session_dict['block']"
   ]
  },
  {
   "cell_type": "code",
   "execution_count": 47,
   "metadata": {},
   "outputs": [
    {
     "data": {
      "text/plain": [
       "152.0"
      ]
     },
     "execution_count": 47,
     "metadata": {},
     "output_type": "execute_result"
    }
   ],
   "source": [
    "trialDelay[321]*1000/20"
   ]
  },
  {
   "cell_type": "code",
   "execution_count": 52,
   "metadata": {},
   "outputs": [
    {
     "data": {
      "text/plain": [
       "[<matplotlib.lines.Line2D at 0x7fbbd726e0d0>]"
      ]
     },
     "execution_count": 52,
     "metadata": {},
     "output_type": "execute_result"
    },
    {
     "data": {
      "image/png": "[encoded data removed]",
      "text/plain": [
       "<Figure size 640x480 with 1 Axes>"
      ]
     },
     "metadata": {},
     "output_type": "display_data"
    }
   ],
   "source": [
    "plt.plot(audioEnvelope[trial321]/np.max(audioEnvelope[trial321]))\n",
    "plt.plot(np.arange(0, 152), np.ones(152)*1.5, color='black')\n",
    "plt.plot(trialState[trial321])"
   ]
  },
  {
   "cell_type": "code",
   "execution_count": 9,
   "metadata": {},
   "outputs": [],
   "source": []
  },
  {
   "cell_type": "code",
   "execution_count": 11,
   "metadata": {},
   "outputs": [],
   "source": [
    "trialDelayTimes= session_dict['trialDelayTimes'].squeeze()"
   ]
  },
  {
   "cell_type": "code",
   "execution_count": 17,
   "metadata": {},
   "outputs": [
    {
     "ename": "KeyError",
     "evalue": "'trialNumber'",
     "output_type": "error",
     "traceback": [
      "\u001b[0;31m---------------------------------------------------------------------------\u001b[0m",
      "\u001b[0;31mKeyError\u001b[0m                                  Traceback (most recent call last)",
      "Cell \u001b[0;32mIn[17], line 1\u001b[0m\n\u001b[0;32m----> 1\u001b[0m session_dict[\u001b[39m'\u001b[39;49m\u001b[39mtrialNumber\u001b[39;49m\u001b[39m'\u001b[39;49m]\n",
      "\u001b[0;31mKeyError\u001b[0m: 'trialNumber'"
     ]
    }
   ],
   "source": [
    "session_dict['trialNumber']"
   ]
  },
  {
   "cell_type": "code",
   "execution_count": null,
   "metadata": {},
   "outputs": [],
   "source": []
  }
 ],
 "metadata": {
  "kernelspec": {
   "display_name": "speech-bci",
   "language": "python",
   "name": "python3"
  },
  "language_info": {
   "codemirror_mode": {
    "name": "ipython",
    "version": 3
   },
   "file_extension": ".py",
   "mimetype": "text/x-python",
   "name": "python",
   "nbconvert_exporter": "python",
   "pygments_lexer": "ipython3",
   "version": "3.11.4"
  },
  "orig_nbformat": 4
 },
 "nbformat": 4,
 "nbformat_minor": 2
}
