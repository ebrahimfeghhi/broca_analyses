{
 "cells": [
  {
   "cell_type": "code",
   "execution_count": 4,
   "metadata": {},
   "outputs": [],
   "source": [
    "%load_ext autoreload\n",
    "%autoreload 2"
   ]
  },
  {
   "cell_type": "code",
   "execution_count": 5,
   "metadata": {},
   "outputs": [],
   "source": [
    "import numpy as np\n",
    "import scipy\n",
    "import os\n",
    "import pandas as pd\n",
    "from matplotlib import pyplot as plt\n",
    "import seaborn as sns\n",
    "import os\n",
    "import sys\n",
    "base_dir = '/home2/ebrahim/neural_seq_decoder/' \n",
    "sys.path.append(f\"{base_dir}/scripts/\")\n",
    "from load_data import store_data_to_pandas\n",
    "from copy import deepcopy"
   ]
  },
  {
   "attachments": {},
   "cell_type": "markdown",
   "metadata": {},
   "source": [
    "This notebook saves smoothed neural data from and block + session information \n",
    "for running a regression between brain regions."
   ]
  },
  {
   "cell_type": "code",
   "execution_count": 6,
   "metadata": {},
   "outputs": [],
   "source": [
    "load_data_from_pickle = False # if true, load pre-existing pandas data"
   ]
  },
  {
   "cell_type": "code",
   "execution_count": 7,
   "metadata": {},
   "outputs": [
    {
     "name": "stdout",
     "output_type": "stream",
     "text": [
      "loading session data\n"
     ]
    },
    {
     "ename": "ValueError",
     "evalue": "All arrays must be of the same length",
     "output_type": "error",
     "traceback": [
      "\u001b[0;31m---------------------------------------------------------------------------\u001b[0m",
      "\u001b[0;31mValueError\u001b[0m                                Traceback (most recent call last)",
      "Cell \u001b[0;32mIn[7], line 16\u001b[0m\n\u001b[1;32m     13\u001b[0m     session_dict \u001b[39m=\u001b[39m scipy\u001b[39m.\u001b[39mio\u001b[39m.\u001b[39mloadmat(\u001b[39mf\u001b[39m\u001b[39m'\u001b[39m\u001b[39m{\u001b[39;00mbase_dir\u001b[39m}\u001b[39;00m\u001b[39msentences/\u001b[39m\u001b[39m{\u001b[39;00mfile\u001b[39m}\u001b[39;00m\u001b[39m'\u001b[39m)\n\u001b[1;32m     14\u001b[0m     session_name \u001b[39m=\u001b[39m file\u001b[39m.\u001b[39msplit(\u001b[39m'\u001b[39m\u001b[39m_\u001b[39m\u001b[39m'\u001b[39m)[\u001b[39m0\u001b[39m]\u001b[39m.\u001b[39mreplace(\u001b[39m'\u001b[39m\u001b[39mt12.2022.\u001b[39m\u001b[39m'\u001b[39m, \u001b[39m'\u001b[39m\u001b[39m'\u001b[39m)\n\u001b[0;32m---> 16\u001b[0m     session_pd \u001b[39m=\u001b[39m store_data_to_pandas(session_dict, session_name\u001b[39m=\u001b[39;49msession_name)\n\u001b[1;32m     18\u001b[0m     session_pd_store\u001b[39m.\u001b[39mappend(session_pd)\n\u001b[1;32m     20\u001b[0m all_sessions \u001b[39m=\u001b[39m pd\u001b[39m.\u001b[39mconcat(session_pd_store)\n",
      "File \u001b[0;32m~/neural_seq_decoder//scripts/load_data.py:279\u001b[0m, in \u001b[0;36mstore_data_to_pandas\u001b[0;34m(session_dict, session_name, selected_block_numbers, stimuliKey, zscore_bool)\u001b[0m\n\u001b[1;32m    276\u001b[0m     store_data_in_dict[\u001b[39m'\u001b[39m\u001b[39mstimuli\u001b[39m\u001b[39m'\u001b[39m]\u001b[39m.\u001b[39mextend(stimuli_sb)\n\u001b[1;32m    277\u001b[0m     store_data_in_dict[\u001b[39m'\u001b[39m\u001b[39mbin_rel_go\u001b[39m\u001b[39m'\u001b[39m]\u001b[39m.\u001b[39mextend(bin_relative_to_go_cue_list)\n\u001b[0;32m--> 279\u001b[0m \u001b[39mreturn\u001b[39;00m pd\u001b[39m.\u001b[39;49mDataFrame(store_data_in_dict)\n",
      "File \u001b[0;32m~/miniconda3/envs/llm_brain/lib/python3.11/site-packages/pandas/core/frame.py:778\u001b[0m, in \u001b[0;36mDataFrame.__init__\u001b[0;34m(self, data, index, columns, dtype, copy)\u001b[0m\n\u001b[1;32m    772\u001b[0m     mgr \u001b[39m=\u001b[39m \u001b[39mself\u001b[39m\u001b[39m.\u001b[39m_init_mgr(\n\u001b[1;32m    773\u001b[0m         data, axes\u001b[39m=\u001b[39m{\u001b[39m\"\u001b[39m\u001b[39mindex\u001b[39m\u001b[39m\"\u001b[39m: index, \u001b[39m\"\u001b[39m\u001b[39mcolumns\u001b[39m\u001b[39m\"\u001b[39m: columns}, dtype\u001b[39m=\u001b[39mdtype, copy\u001b[39m=\u001b[39mcopy\n\u001b[1;32m    774\u001b[0m     )\n\u001b[1;32m    776\u001b[0m \u001b[39melif\u001b[39;00m \u001b[39misinstance\u001b[39m(data, \u001b[39mdict\u001b[39m):\n\u001b[1;32m    777\u001b[0m     \u001b[39m# GH#38939 de facto copy defaults to False only in non-dict cases\u001b[39;00m\n\u001b[0;32m--> 778\u001b[0m     mgr \u001b[39m=\u001b[39m dict_to_mgr(data, index, columns, dtype\u001b[39m=\u001b[39;49mdtype, copy\u001b[39m=\u001b[39;49mcopy, typ\u001b[39m=\u001b[39;49mmanager)\n\u001b[1;32m    779\u001b[0m \u001b[39melif\u001b[39;00m \u001b[39misinstance\u001b[39m(data, ma\u001b[39m.\u001b[39mMaskedArray):\n\u001b[1;32m    780\u001b[0m     \u001b[39mfrom\u001b[39;00m \u001b[39mnumpy\u001b[39;00m\u001b[39m.\u001b[39;00m\u001b[39mma\u001b[39;00m \u001b[39mimport\u001b[39;00m mrecords\n",
      "File \u001b[0;32m~/miniconda3/envs/llm_brain/lib/python3.11/site-packages/pandas/core/internals/construction.py:503\u001b[0m, in \u001b[0;36mdict_to_mgr\u001b[0;34m(data, index, columns, dtype, typ, copy)\u001b[0m\n\u001b[1;32m    499\u001b[0m     \u001b[39melse\u001b[39;00m:\n\u001b[1;32m    500\u001b[0m         \u001b[39m# dtype check to exclude e.g. range objects, scalars\u001b[39;00m\n\u001b[1;32m    501\u001b[0m         arrays \u001b[39m=\u001b[39m [x\u001b[39m.\u001b[39mcopy() \u001b[39mif\u001b[39;00m \u001b[39mhasattr\u001b[39m(x, \u001b[39m\"\u001b[39m\u001b[39mdtype\u001b[39m\u001b[39m\"\u001b[39m) \u001b[39melse\u001b[39;00m x \u001b[39mfor\u001b[39;00m x \u001b[39min\u001b[39;00m arrays]\n\u001b[0;32m--> 503\u001b[0m \u001b[39mreturn\u001b[39;00m arrays_to_mgr(arrays, columns, index, dtype\u001b[39m=\u001b[39;49mdtype, typ\u001b[39m=\u001b[39;49mtyp, consolidate\u001b[39m=\u001b[39;49mcopy)\n",
      "File \u001b[0;32m~/miniconda3/envs/llm_brain/lib/python3.11/site-packages/pandas/core/internals/construction.py:114\u001b[0m, in \u001b[0;36marrays_to_mgr\u001b[0;34m(arrays, columns, index, dtype, verify_integrity, typ, consolidate)\u001b[0m\n\u001b[1;32m    111\u001b[0m \u001b[39mif\u001b[39;00m verify_integrity:\n\u001b[1;32m    112\u001b[0m     \u001b[39m# figure out the index, if necessary\u001b[39;00m\n\u001b[1;32m    113\u001b[0m     \u001b[39mif\u001b[39;00m index \u001b[39mis\u001b[39;00m \u001b[39mNone\u001b[39;00m:\n\u001b[0;32m--> 114\u001b[0m         index \u001b[39m=\u001b[39m _extract_index(arrays)\n\u001b[1;32m    115\u001b[0m     \u001b[39melse\u001b[39;00m:\n\u001b[1;32m    116\u001b[0m         index \u001b[39m=\u001b[39m ensure_index(index)\n",
      "File \u001b[0;32m~/miniconda3/envs/llm_brain/lib/python3.11/site-packages/pandas/core/internals/construction.py:677\u001b[0m, in \u001b[0;36m_extract_index\u001b[0;34m(data)\u001b[0m\n\u001b[1;32m    675\u001b[0m lengths \u001b[39m=\u001b[39m \u001b[39mlist\u001b[39m(\u001b[39mset\u001b[39m(raw_lengths))\n\u001b[1;32m    676\u001b[0m \u001b[39mif\u001b[39;00m \u001b[39mlen\u001b[39m(lengths) \u001b[39m>\u001b[39m \u001b[39m1\u001b[39m:\n\u001b[0;32m--> 677\u001b[0m     \u001b[39mraise\u001b[39;00m \u001b[39mValueError\u001b[39;00m(\u001b[39m\"\u001b[39m\u001b[39mAll arrays must be of the same length\u001b[39m\u001b[39m\"\u001b[39m)\n\u001b[1;32m    679\u001b[0m \u001b[39mif\u001b[39;00m have_dicts:\n\u001b[1;32m    680\u001b[0m     \u001b[39mraise\u001b[39;00m \u001b[39mValueError\u001b[39;00m(\n\u001b[1;32m    681\u001b[0m         \u001b[39m\"\u001b[39m\u001b[39mMixing dicts with non-Series may lead to ambiguous ordering.\u001b[39m\u001b[39m\"\u001b[39m\n\u001b[1;32m    682\u001b[0m     )\n",
      "\u001b[0;31mValueError\u001b[0m: All arrays must be of the same length"
     ]
    }
   ],
   "source": [
    "if load_data_from_pickle:\n",
    "    \n",
    "    all_sessions = pd.read_pickle(f\"/data/LLMs/willet/all_sessions_pd.pkl\")  \n",
    "      \n",
    "else:\n",
    "\n",
    "    session_pd_store = []\n",
    "    counter = 0\n",
    "\n",
    "    for file in os.listdir(f\"{base_dir}sentences/\"):\n",
    "        \n",
    "        print(\"loading session data\")\n",
    "        session_dict = scipy.io.loadmat(f'{base_dir}sentences/{file}')\n",
    "        session_name = file.split('_')[0].replace('t12.2022.', '')\n",
    "\n",
    "        session_pd = store_data_to_pandas(session_dict, session_name=session_name)\n",
    "        \n",
    "        session_pd_store.append(session_pd)\n",
    "        \n",
    "    all_sessions = pd.concat(session_pd_store)\n",
    "    all_sessions.to_pickle('/data/LLMs/willet/all_sessions_pd.pkl')\n",
    "    "
   ]
  },
  {
   "cell_type": "code",
   "execution_count": 6,
   "metadata": {},
   "outputs": [
    {
     "data": {
      "text/plain": [
       "(5942443, 519)"
      ]
     },
     "execution_count": 6,
     "metadata": {},
     "output_type": "execute_result"
    }
   ],
   "source": [
    "all_sessions.shape"
   ]
  },
  {
   "cell_type": "code",
   "execution_count": 7,
   "metadata": {},
   "outputs": [],
   "source": [
    "all_sessions = all_sessions.loc[all_sessions.trialState!=3]"
   ]
  },
  {
   "cell_type": "code",
   "execution_count": 8,
   "metadata": {},
   "outputs": [
    {
     "data": {
      "text/plain": [
       "(5472344, 519)"
      ]
     },
     "execution_count": 8,
     "metadata": {},
     "output_type": "execute_result"
    }
   ],
   "source": [
    "all_sessions.shape"
   ]
  },
  {
   "cell_type": "code",
   "execution_count": 9,
   "metadata": {},
   "outputs": [
    {
     "data": {
      "text/plain": [
       "470099"
      ]
     },
     "execution_count": 9,
     "metadata": {},
     "output_type": "execute_result"
    }
   ],
   "source": [
    "5942443 - 5472344"
   ]
  },
  {
   "cell_type": "code",
   "execution_count": 22,
   "metadata": {},
   "outputs": [
    {
     "data": {
      "text/html": [
       "<div>\n",
       "<style scoped>\n",
       "    .dataframe tbody tr th:only-of-type {\n",
       "        vertical-align: middle;\n",
       "    }\n",
       "\n",
       "    .dataframe tbody tr th {\n",
       "        vertical-align: top;\n",
       "    }\n",
       "\n",
       "    .dataframe thead th {\n",
       "        text-align: right;\n",
       "    }\n",
       "</style>\n",
       "<table border=\"1\" class=\"dataframe\">\n",
       "  <thead>\n",
       "    <tr style=\"text-align: right;\">\n",
       "      <th></th>\n",
       "      <th>blockNum</th>\n",
       "      <th>blockName</th>\n",
       "      <th>session</th>\n",
       "      <th>trialState</th>\n",
       "      <th>stimuli</th>\n",
       "      <th>trialNumber</th>\n",
       "      <th>bin_rel_go</th>\n",
       "      <th>pow-ip_6v-0</th>\n",
       "      <th>tx-ip_6v-0</th>\n",
       "      <th>pow-ip_6v-1</th>\n",
       "      <th>...</th>\n",
       "      <th>pow-ip_44-251</th>\n",
       "      <th>tx-ip_44-251</th>\n",
       "      <th>pow-ip_44-252</th>\n",
       "      <th>tx-ip_44-252</th>\n",
       "      <th>pow-ip_44-253</th>\n",
       "      <th>tx-ip_44-253</th>\n",
       "      <th>pow-ip_44-254</th>\n",
       "      <th>tx-ip_44-254</th>\n",
       "      <th>pow-ip_44-255</th>\n",
       "      <th>tx-ip_44-255</th>\n",
       "    </tr>\n",
       "  </thead>\n",
       "  <tbody>\n",
       "    <tr>\n",
       "      <th>0</th>\n",
       "      <td>3</td>\n",
       "      <td>OL Switchboard</td>\n",
       "      <td>07.29</td>\n",
       "      <td>0</td>\n",
       "      <td>What kind of running do you do?</td>\n",
       "      <td>0</td>\n",
       "      <td>-156</td>\n",
       "      <td>-0.493579</td>\n",
       "      <td>-0.597108</td>\n",
       "      <td>-0.835287</td>\n",
       "      <td>...</td>\n",
       "      <td>1.734256</td>\n",
       "      <td>-0.107488</td>\n",
       "      <td>-0.477084</td>\n",
       "      <td>-0.306727</td>\n",
       "      <td>0.973151</td>\n",
       "      <td>-0.384723</td>\n",
       "      <td>0.304230</td>\n",
       "      <td>-0.364743</td>\n",
       "      <td>2.086074</td>\n",
       "      <td>0.382428</td>\n",
       "    </tr>\n",
       "    <tr>\n",
       "      <th>1</th>\n",
       "      <td>3</td>\n",
       "      <td>OL Switchboard</td>\n",
       "      <td>07.29</td>\n",
       "      <td>0</td>\n",
       "      <td>What kind of running do you do?</td>\n",
       "      <td>0</td>\n",
       "      <td>-155</td>\n",
       "      <td>-0.967313</td>\n",
       "      <td>-0.597108</td>\n",
       "      <td>-1.100261</td>\n",
       "      <td>...</td>\n",
       "      <td>-0.331001</td>\n",
       "      <td>-0.107488</td>\n",
       "      <td>-1.145916</td>\n",
       "      <td>-0.306727</td>\n",
       "      <td>1.467114</td>\n",
       "      <td>4.256033</td>\n",
       "      <td>-0.304190</td>\n",
       "      <td>-0.364743</td>\n",
       "      <td>-0.188917</td>\n",
       "      <td>-0.609826</td>\n",
       "    </tr>\n",
       "    <tr>\n",
       "      <th>2</th>\n",
       "      <td>3</td>\n",
       "      <td>OL Switchboard</td>\n",
       "      <td>07.29</td>\n",
       "      <td>0</td>\n",
       "      <td>What kind of running do you do?</td>\n",
       "      <td>0</td>\n",
       "      <td>-154</td>\n",
       "      <td>-0.890951</td>\n",
       "      <td>-0.597108</td>\n",
       "      <td>-0.472991</td>\n",
       "      <td>...</td>\n",
       "      <td>0.851924</td>\n",
       "      <td>-0.107488</td>\n",
       "      <td>0.625106</td>\n",
       "      <td>-0.306727</td>\n",
       "      <td>-1.057098</td>\n",
       "      <td>-0.384723</td>\n",
       "      <td>0.322661</td>\n",
       "      <td>-0.364743</td>\n",
       "      <td>-0.568949</td>\n",
       "      <td>-0.609826</td>\n",
       "    </tr>\n",
       "    <tr>\n",
       "      <th>3</th>\n",
       "      <td>3</td>\n",
       "      <td>OL Switchboard</td>\n",
       "      <td>07.29</td>\n",
       "      <td>0</td>\n",
       "      <td>What kind of running do you do?</td>\n",
       "      <td>0</td>\n",
       "      <td>-153</td>\n",
       "      <td>-0.798333</td>\n",
       "      <td>-0.597108</td>\n",
       "      <td>-2.080518</td>\n",
       "      <td>...</td>\n",
       "      <td>1.450349</td>\n",
       "      <td>-0.107488</td>\n",
       "      <td>-0.600827</td>\n",
       "      <td>-0.306727</td>\n",
       "      <td>-0.405593</td>\n",
       "      <td>-0.384723</td>\n",
       "      <td>1.099457</td>\n",
       "      <td>-0.364743</td>\n",
       "      <td>-0.346855</td>\n",
       "      <td>-0.609826</td>\n",
       "    </tr>\n",
       "    <tr>\n",
       "      <th>4</th>\n",
       "      <td>3</td>\n",
       "      <td>OL Switchboard</td>\n",
       "      <td>07.29</td>\n",
       "      <td>0</td>\n",
       "      <td>What kind of running do you do?</td>\n",
       "      <td>0</td>\n",
       "      <td>-152</td>\n",
       "      <td>-0.833999</td>\n",
       "      <td>-0.597108</td>\n",
       "      <td>-0.869257</td>\n",
       "      <td>...</td>\n",
       "      <td>0.984007</td>\n",
       "      <td>-0.107488</td>\n",
       "      <td>-0.109123</td>\n",
       "      <td>-0.306727</td>\n",
       "      <td>-1.049004</td>\n",
       "      <td>-0.384723</td>\n",
       "      <td>0.138072</td>\n",
       "      <td>-0.364743</td>\n",
       "      <td>-0.378074</td>\n",
       "      <td>-0.609826</td>\n",
       "    </tr>\n",
       "  </tbody>\n",
       "</table>\n",
       "<p>5 rows × 519 columns</p>\n",
       "</div>"
      ],
      "text/plain": [
       "   blockNum       blockName session  trialState  \\\n",
       "0         3  OL Switchboard   07.29           0   \n",
       "1         3  OL Switchboard   07.29           0   \n",
       "2         3  OL Switchboard   07.29           0   \n",
       "3         3  OL Switchboard   07.29           0   \n",
       "4         3  OL Switchboard   07.29           0   \n",
       "\n",
       "                           stimuli  trialNumber  bin_rel_go  pow-ip_6v-0  \\\n",
       "0  What kind of running do you do?            0        -156    -0.493579   \n",
       "1  What kind of running do you do?            0        -155    -0.967313   \n",
       "2  What kind of running do you do?            0        -154    -0.890951   \n",
       "3  What kind of running do you do?            0        -153    -0.798333   \n",
       "4  What kind of running do you do?            0        -152    -0.833999   \n",
       "\n",
       "   tx-ip_6v-0  pow-ip_6v-1  ...  pow-ip_44-251  tx-ip_44-251  pow-ip_44-252  \\\n",
       "0   -0.597108    -0.835287  ...       1.734256     -0.107488      -0.477084   \n",
       "1   -0.597108    -1.100261  ...      -0.331001     -0.107488      -1.145916   \n",
       "2   -0.597108    -0.472991  ...       0.851924     -0.107488       0.625106   \n",
       "3   -0.597108    -2.080518  ...       1.450349     -0.107488      -0.600827   \n",
       "4   -0.597108    -0.869257  ...       0.984007     -0.107488      -0.109123   \n",
       "\n",
       "   tx-ip_44-252  pow-ip_44-253  tx-ip_44-253  pow-ip_44-254  tx-ip_44-254  \\\n",
       "0     -0.306727       0.973151     -0.384723       0.304230     -0.364743   \n",
       "1     -0.306727       1.467114      4.256033      -0.304190     -0.364743   \n",
       "2     -0.306727      -1.057098     -0.384723       0.322661     -0.364743   \n",
       "3     -0.306727      -0.405593     -0.384723       1.099457     -0.364743   \n",
       "4     -0.306727      -1.049004     -0.384723       0.138072     -0.364743   \n",
       "\n",
       "   pow-ip_44-255  tx-ip_44-255  \n",
       "0       2.086074      0.382428  \n",
       "1      -0.188917     -0.609826  \n",
       "2      -0.568949     -0.609826  \n",
       "3      -0.346855     -0.609826  \n",
       "4      -0.378074     -0.609826  \n",
       "\n",
       "[5 rows x 519 columns]"
      ]
     },
     "execution_count": 22,
     "metadata": {},
     "output_type": "execute_result"
    }
   ],
   "source": [
    "all_sessions.head()"
   ]
  },
  {
   "cell_type": "code",
   "execution_count": 6,
   "metadata": {},
   "outputs": [],
   "source": [
    "all_sessions['block+sess'] = all_sessions['blockNum'].astype(str) + '_' + all_sessions['session'] \n",
    "\n",
    "all_sessions['tn+block+sess'] = all_sessions['trialNumber'].astype(str) + '_' + all_sessions['blockNum'].astype(str) + '_' + all_sessions['session']\n"
   ]
  },
  {
   "cell_type": "code",
   "execution_count": 5,
   "metadata": {},
   "outputs": [
    {
     "data": {
      "image/png": "[encoded data removed]",
      "text/plain": [
       "<Figure size 1500x1000 with 1 Axes>"
      ]
     },
     "metadata": {},
     "output_type": "display_data"
    }
   ],
   "source": []
  },
  {
   "cell_type": "code",
   "execution_count": 4,
   "metadata": {},
   "outputs": [],
   "source": []
  },
  {
   "cell_type": "code",
   "execution_count": 7,
   "metadata": {},
   "outputs": [
    {
     "name": "stdout",
     "output_type": "stream",
     "text": [
      "using spike pow\n"
     ]
    }
   ],
   "source": []
  }
 ],
 "metadata": {
  "kernelspec": {
   "display_name": "speech-bci",
   "language": "python",
   "name": "python3"
  },
  "language_info": {
   "codemirror_mode": {
    "name": "ipython",
    "version": 3
   },
   "file_extension": ".py",
   "mimetype": "text/x-python",
   "name": "python",
   "nbconvert_exporter": "python",
   "pygments_lexer": "ipython3",
   "version": "3.11.4"
  },
  "orig_nbformat": 4
 },
 "nbformat": 4,
 "nbformat_minor": 2
}
