{
 "cells": [
  {
   "cell_type": "code",
   "execution_count": 14,
   "metadata": {},
   "outputs": [],
   "source": [
    "import numpy as np\n",
    "import seaborn as sns\n",
    "from matplotlib import pyplot as plt\n",
    "from scipy.stats import pearsonr"
   ]
  },
  {
   "cell_type": "code",
   "execution_count": 4,
   "metadata": {},
   "outputs": [],
   "source": [
    "area_6v_data = np.load('/data/LLMs/willet/smooth_ba6v_pow.npy')\n",
    "area_44_data = np.load('/data/LLMs/willet/smooth_ba44_pow.npy')\n",
    "block_sess_all = np.load('/data/LLMs/willet/block_sess.npy')"
   ]
  },
  {
   "cell_type": "code",
   "execution_count": 8,
   "metadata": {},
   "outputs": [],
   "source": [
    "for bs in np.unique(block_sess_all):\n",
    "    bs_idxs = np.argwhere(block_sess_all==bs).squeeze()\n",
    "    one_block_44 = area_44_data[bs_idxs]\n",
    "    one_block_6v = area_6v_data[bs_idxs]\n",
    "    break"
   ]
  },
  {
   "cell_type": "code",
   "execution_count": 21,
   "metadata": {},
   "outputs": [
    {
     "data": {
      "text/plain": [
       "(array([7.57590583e+08, 3.00745000e+06, 2.77320000e+04, 4.49900000e+03,\n",
       "        1.47800000e+03, 6.58000000e+02, 1.98000000e+02, 7.40000000e+01,\n",
       "        1.70000000e+01, 1.50000000e+01]),\n",
       " array([-2.02104688,  2.74474812,  7.51054287, 12.27633762, 17.04213333,\n",
       "        21.80792809, 26.57372284, 31.33951759, 36.10531235, 40.87110519,\n",
       "        45.63690186]),\n",
       " <BarContainer object of 10 artists>)"
      ]
     },
     "execution_count": 21,
     "metadata": {},
     "output_type": "execute_result"
    },
    {
     "data": {
      "image/png": "[encoded data removed]",
      "text/plain": [
       "<Figure size 640x480 with 1 Axes>"
      ]
     },
     "metadata": {},
     "output_type": "display_data"
    }
   ],
   "source": [
    "plt.hist(area_44_data.ravel())"
   ]
  },
  {
   "cell_type": "code",
   "execution_count": null,
   "metadata": {},
   "outputs": [],
   "source": []
  }
 ],
 "metadata": {
  "kernelspec": {
   "display_name": "llm_brain",
   "language": "python",
   "name": "python3"
  },
  "language_info": {
   "codemirror_mode": {
    "name": "ipython",
    "version": 3
   },
   "file_extension": ".py",
   "mimetype": "text/x-python",
   "name": "python",
   "nbconvert_exporter": "python",
   "pygments_lexer": "ipython3",
   "version": "3.11.4"
  },
  "orig_nbformat": 4
 },
 "nbformat": 4,
 "nbformat_minor": 2
}
